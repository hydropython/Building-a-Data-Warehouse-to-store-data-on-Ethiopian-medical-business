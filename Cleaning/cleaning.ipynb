{
 "cells": [
  {
   "cell_type": "code",
   "execution_count": 9,
   "metadata": {},
   "outputs": [
    {
     "name": "stdout",
     "output_type": "stream",
     "text": [
      "Removed 3123 duplicate rows.\n",
      "Cleaned data saved to: ../Data/validated_telegram_data.csv\n",
      "Cleaned Data Preview:\n",
      "            Channel Title Channel Username  \\\n",
      "0  Health Hub Et: ስለ ጤና 🩺         @HHETatI   \n",
      "1  Health Hub Et: ስለ ጤና 🩺         @HHETatI   \n",
      "2  Health Hub Et: ስለ ጤና 🩺         @HHETatI   \n",
      "3  Health Hub Et: ስለ ጤና 🩺         @HHETatI   \n",
      "4  Health Hub Et: ስለ ጤና 🩺         @HHETatI   \n",
      "\n",
      "                                             Message  \\\n",
      "0  # የስኳር በሽታ እና የአይን ጤና: ማወቅ ያለብዎት\\n\\nየስኳር በሽታ በ...   \n",
      "1                                                ...   \n",
      "2  From Hero to Burnout: The Reality for Ethiopia...   \n",
      "3  የትርፍ አንጀት ብግነት: ማወቅ ያለብዎት\\n\\nትርፍ አንጀት (Appendi...   \n",
      "4  # Ethiopia's Healthcare: Progress vs. Reality?...   \n",
      "\n",
      "                        Date                Media Path  \n",
      "0  2024-10-06 10:24:28+00:00  photos\\@HHETatI_2034.jpg  \n",
      "1  2024-10-06 10:10:50+00:00  photos\\@HHETatI_2032.jpg  \n",
      "2  2024-09-30 12:18:06+00:00  photos\\@HHETatI_2027.jpg  \n",
      "3  2024-09-28 13:29:51+00:00  photos\\@HHETatI_2025.jpg  \n",
      "4  2024-09-28 13:27:26+00:00  photos\\@HHETatI_2024.jpg  \n"
     ]
    }
   ],
   "source": [
    "\n",
    "def clean_telegram_data(input_file_path, output_file_path):\n",
    "    # Read the CSV file\n",
    "    df = pd.read_csv(input_file_path)\n",
    "\n",
    "    # Specify the required columns\n",
    "    required_columns = [\"Channel Title\", \"Channel Username\", \"Message\", \"Date\", \"Media Path\"]\n",
    "\n",
    "    # Clean the DataFrame to keep only the required columns\n",
    "    df = df[required_columns]\n",
    "\n",
    "    # Removing duplicates\n",
    "    before_shape = df.shape\n",
    "    df.drop_duplicates(inplace=True)\n",
    "    after_shape = df.shape\n",
    "    print(f\"Removed {before_shape[0] - after_shape[0]} duplicate rows.\")\n",
    "\n",
    "    # Handling missing values (you can customize this part as needed)\n",
    "    df.dropna(inplace=True)  # This will remove any rows with missing values\n",
    "\n",
    "    # Standardizing formats\n",
    "    df['Channel Title'] = df['Channel Title'].str.title()\n",
    "    \n",
    "    # Convert 'Date' to datetime\n",
    "    df['Date'] = pd.to_datetime(df['Date'], errors='coerce')\n",
    "\n",
    "    # Handling timezone-aware datetime objects\n",
    "    # Here we assume that your data is in UTC\n",
    "    now_utc = pd.Timestamp.now(tz='UTC')\n",
    "\n",
    "    # Data validation: Check for future dates\n",
    "    future_dates = df[df['Date'] > now_utc]\n",
    "    if not future_dates.empty:\n",
    "        print(f\"Found {len(future_dates)} future dates.\")\n",
    "    df = df[df['Date'] <= now_utc]\n",
    "\n",
    "    # Save the cleaned DataFrame to a new CSV file\n",
    "    df.to_csv(output_file_path, index=False)\n",
    "    print(f\"Cleaned data saved to: {output_file_path}\")\n",
    "\n",
    "# Example usage\n",
    "input_file = '../Data/merged_telegram_data.csv'\n",
    "output_file = '../Data/validated_telegram_data.csv'\n",
    "# Call the function\n",
    "clean_telegram_data(input_file, output_file)\n",
    "\n",
    "# Verify the cleaned data\n",
    "cleaned_df = pd.read_csv(output_file)\n",
    "print(\"Cleaned Data Preview:\")\n",
    "print(cleaned_df.head())  # Display the first few rows of the cleaned data"
   ]
  }
 ],
 "metadata": {
  "kernelspec": {
   "display_name": "env",
   "language": "python",
   "name": "python3"
  },
  "language_info": {
   "codemirror_mode": {
    "name": "ipython",
    "version": 3
   },
   "file_extension": ".py",
   "mimetype": "text/x-python",
   "name": "python",
   "nbconvert_exporter": "python",
   "pygments_lexer": "ipython3",
   "version": "3.12.6"
  }
 },
 "nbformat": 4,
 "nbformat_minor": 2
}
